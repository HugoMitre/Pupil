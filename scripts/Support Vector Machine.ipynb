{
 "cells": [
  {
   "cell_type": "code",
   "execution_count": 1,
   "metadata": {},
   "outputs": [],
   "source": [
    "# Scikit-learn models:\n",
    "from sklearn.metrics import accuracy_score\n",
    "from sklearn import svm\n",
    "import graphviz\n",
    "\n",
    "# Base packages:\n",
    "from IPython.display import SVG\n",
    "import matplotlib.pyplot as plt\n",
    "import seaborn as sns\n",
    "import pandas as pd\n",
    "import numpy as np"
   ]
  },
  {
   "cell_type": "code",
   "execution_count": 2,
   "metadata": {},
   "outputs": [
    {
     "data": {
      "text/html": [
       "<div>\n",
       "<style scoped>\n",
       "    .dataframe tbody tr th:only-of-type {\n",
       "        vertical-align: middle;\n",
       "    }\n",
       "\n",
       "    .dataframe tbody tr th {\n",
       "        vertical-align: top;\n",
       "    }\n",
       "\n",
       "    .dataframe thead th {\n",
       "        text-align: right;\n",
       "    }\n",
       "</style>\n",
       "<table border=\"1\" class=\"dataframe\">\n",
       "  <thead>\n",
       "    <tr style=\"text-align: right;\">\n",
       "      <th></th>\n",
       "      <th>Participant</th>\n",
       "      <th>World</th>\n",
       "      <th>TrialName</th>\n",
       "      <th>Task</th>\n",
       "      <th>Duration</th>\n",
       "      <th>Milliseconds</th>\n",
       "      <th>Errors</th>\n",
       "      <th>Baseline</th>\n",
       "      <th>APCPS</th>\n",
       "      <th>MPD</th>\n",
       "      <th>...</th>\n",
       "      <th>MPDC_A</th>\n",
       "      <th>SD_A</th>\n",
       "      <th>PeakDilation_A</th>\n",
       "      <th>Latencytopeak_A</th>\n",
       "      <th>Changeposition_A</th>\n",
       "      <th>Attempts_A</th>\n",
       "      <th>ChangepositionAttemps_A</th>\n",
       "      <th>Errorschangeposition_A</th>\n",
       "      <th>ErrorsAttemps_A</th>\n",
       "      <th>Totalerrors_A</th>\n",
       "    </tr>\n",
       "  </thead>\n",
       "  <tbody>\n",
       "    <tr>\n",
       "      <th>0</th>\n",
       "      <td>1</td>\n",
       "      <td>2</td>\n",
       "      <td>2_5</td>\n",
       "      <td>25</td>\n",
       "      <td>00:00:45</td>\n",
       "      <td>44785</td>\n",
       "      <td>0</td>\n",
       "      <td>30,7896</td>\n",
       "      <td>,0409</td>\n",
       "      <td>32,049</td>\n",
       "      <td>...</td>\n",
       "      <td>2,9259</td>\n",
       "      <td>1,5489</td>\n",
       "      <td>6,0057</td>\n",
       "      <td>65</td>\n",
       "      <td>2</td>\n",
       "      <td>0</td>\n",
       "      <td>2</td>\n",
       "      <td>3</td>\n",
       "      <td>1</td>\n",
       "      <td>3</td>\n",
       "    </tr>\n",
       "    <tr>\n",
       "      <th>1</th>\n",
       "      <td>3</td>\n",
       "      <td>2</td>\n",
       "      <td>2_4</td>\n",
       "      <td>24</td>\n",
       "      <td>00:01:53</td>\n",
       "      <td>112464</td>\n",
       "      <td>1</td>\n",
       "      <td>18,1298</td>\n",
       "      <td>,0524</td>\n",
       "      <td>19,0801</td>\n",
       "      <td>...</td>\n",
       "      <td>2,3878</td>\n",
       "      <td>1,3852</td>\n",
       "      <td>4,9936</td>\n",
       "      <td>33</td>\n",
       "      <td>0</td>\n",
       "      <td>2</td>\n",
       "      <td>2</td>\n",
       "      <td>0</td>\n",
       "      <td>2</td>\n",
       "      <td>2</td>\n",
       "    </tr>\n",
       "    <tr>\n",
       "      <th>2</th>\n",
       "      <td>6</td>\n",
       "      <td>2</td>\n",
       "      <td>2_4</td>\n",
       "      <td>24</td>\n",
       "      <td>00:00:40</td>\n",
       "      <td>39458</td>\n",
       "      <td>0</td>\n",
       "      <td>27,0984</td>\n",
       "      <td>,0869</td>\n",
       "      <td>29,4543</td>\n",
       "      <td>...</td>\n",
       "      <td>2,2689</td>\n",
       "      <td>,8128</td>\n",
       "      <td>4,0133</td>\n",
       "      <td>9</td>\n",
       "      <td>0</td>\n",
       "      <td>0</td>\n",
       "      <td>0</td>\n",
       "      <td>0</td>\n",
       "      <td>0</td>\n",
       "      <td>0</td>\n",
       "    </tr>\n",
       "    <tr>\n",
       "      <th>3</th>\n",
       "      <td>6</td>\n",
       "      <td>2</td>\n",
       "      <td>2_5</td>\n",
       "      <td>25</td>\n",
       "      <td>00:00:46</td>\n",
       "      <td>45055</td>\n",
       "      <td>0</td>\n",
       "      <td>29,3381</td>\n",
       "      <td>,0288</td>\n",
       "      <td>30,1824</td>\n",
       "      <td>...</td>\n",
       "      <td>1,3159</td>\n",
       "      <td>,8638</td>\n",
       "      <td>3,0021</td>\n",
       "      <td>38</td>\n",
       "      <td>1</td>\n",
       "      <td>0</td>\n",
       "      <td>1</td>\n",
       "      <td>1</td>\n",
       "      <td>0</td>\n",
       "      <td>1</td>\n",
       "    </tr>\n",
       "    <tr>\n",
       "      <th>4</th>\n",
       "      <td>7</td>\n",
       "      <td>2</td>\n",
       "      <td>2_4</td>\n",
       "      <td>24</td>\n",
       "      <td>00:02:28</td>\n",
       "      <td>147727</td>\n",
       "      <td>7</td>\n",
       "      <td>25,5965</td>\n",
       "      <td>,0839</td>\n",
       "      <td>27,745</td>\n",
       "      <td>...</td>\n",
       "      <td>4,3299</td>\n",
       "      <td>1,0139</td>\n",
       "      <td>6,9429</td>\n",
       "      <td>14</td>\n",
       "      <td>0</td>\n",
       "      <td>0</td>\n",
       "      <td>0</td>\n",
       "      <td>0</td>\n",
       "      <td>0</td>\n",
       "      <td>0</td>\n",
       "    </tr>\n",
       "  </tbody>\n",
       "</table>\n",
       "<p>5 rows × 40 columns</p>\n",
       "</div>"
      ],
      "text/plain": [
       "   Participant  World TrialName  Task  Duration  Milliseconds  Errors  \\\n",
       "0            1      2       2_5    25  00:00:45         44785       0   \n",
       "1            3      2       2_4    24  00:01:53        112464       1   \n",
       "2            6      2       2_4    24  00:00:40         39458       0   \n",
       "3            6      2       2_5    25  00:00:46         45055       0   \n",
       "4            7      2       2_4    24  00:02:28        147727       7   \n",
       "\n",
       "  Baseline  APCPS      MPD      ...        MPDC_A    SD_A PeakDilation_A  \\\n",
       "0  30,7896  ,0409   32,049      ...        2,9259  1,5489         6,0057   \n",
       "1  18,1298  ,0524  19,0801      ...        2,3878  1,3852         4,9936   \n",
       "2  27,0984  ,0869  29,4543      ...        2,2689   ,8128         4,0133   \n",
       "3  29,3381  ,0288  30,1824      ...        1,3159   ,8638         3,0021   \n",
       "4  25,5965  ,0839   27,745      ...        4,3299  1,0139         6,9429   \n",
       "\n",
       "   Latencytopeak_A  Changeposition_A  Attempts_A  ChangepositionAttemps_A  \\\n",
       "0               65                 2           0                        2   \n",
       "1               33                 0           2                        2   \n",
       "2                9                 0           0                        0   \n",
       "3               38                 1           0                        1   \n",
       "4               14                 0           0                        0   \n",
       "\n",
       "   Errorschangeposition_A  ErrorsAttemps_A  Totalerrors_A  \n",
       "0                       3                1              3  \n",
       "1                       0                2              2  \n",
       "2                       0                0              0  \n",
       "3                       1                0              1  \n",
       "4                       0                0              0  \n",
       "\n",
       "[5 rows x 40 columns]"
      ]
     },
     "execution_count": 2,
     "metadata": {},
     "output_type": "execute_result"
    }
   ],
   "source": [
    "# Load data:\n",
    "data = pd.read_csv(\"../data/Final_Results_Pupil_v2.csv\", sep=\";\")\n",
    "\n",
    "# Print first 5 rows:\n",
    "data.head()"
   ]
  },
  {
   "cell_type": "code",
   "execution_count": 3,
   "metadata": {},
   "outputs": [
    {
     "name": "stdout",
     "output_type": "stream",
     "text": [
      "Testing indices: [ 3 20 49 41  5]\n"
     ]
    }
   ],
   "source": [
    "# Create testing indices (10%):\n",
    "np.random.seed(8)\n",
    "test_idx = np.random.choice(len(data), int(len(data)*.1))\n",
    "print(\"Testing indices:\", test_idx)"
   ]
  },
  {
   "cell_type": "code",
   "execution_count": 4,
   "metadata": {},
   "outputs": [],
   "source": [
    "def clean_data(data):\n",
    "    \"\"\"Utlity function to parse data.\"\"\"\n",
    "    for col in range(data.shape[1]):\n",
    "        for row in range(data.shape[0]):\n",
    "            try:\n",
    "                data[row, col] = float(data[row, col].replace(',', '.'))\n",
    "            except:\n",
    "                pass"
   ]
  },
  {
   "cell_type": "code",
   "execution_count": 5,
   "metadata": {},
   "outputs": [],
   "source": [
    "# Create features and labels (data):\n",
    "features = data[['Errors', 'Milliseconds', 'MPDC', 'PeakDilation']].values\n",
    "labels = data[['World']].values\n",
    "clean_data(features)\n",
    "\n",
    "# Create features and labels (names):\n",
    "feature_names = np.array(['Errors', 'Milliseconds', 'MPDC', 'PeakDilation'])\n",
    "label_names = np.array(['World 1', 'World 2'])\n",
    "\n",
    "# Create training data:\n",
    "train_data = np.delete(features, test_idx, axis=0)\n",
    "train_lbls = np.delete(labels, test_idx)\n",
    "\n",
    "# Create testing data:\n",
    "test_data = features[test_idx]\n",
    "test_lbls = labels[test_idx]"
   ]
  },
  {
   "cell_type": "code",
   "execution_count": 6,
   "metadata": {},
   "outputs": [
    {
     "data": {
      "text/plain": [
       "SVC(C=1.0, cache_size=200, class_weight=None, coef0=0.0,\n",
       "  decision_function_shape='ovr', degree=3, gamma='auto', kernel='rbf',\n",
       "  max_iter=-1, probability=False, random_state=None, shrinking=True,\n",
       "  tol=0.001, verbose=False)"
      ]
     },
     "metadata": {},
     "output_type": "display_data"
    },
    {
     "name": "stdout",
     "output_type": "stream",
     "text": [
      "Predictions: \t [4 4 4 4 4]\n",
      "Testing labels:  [2 2 4 4 2]\n",
      "Accuracy score: 40.0%\n"
     ]
    }
   ],
   "source": [
    "# Build classifier:\n",
    "clf = svm.SVC(kernel='rbf')\n",
    "display(clf)\n",
    "clf.fit(train_data, train_lbls)\n",
    "\n",
    "# Predict data:\n",
    "prediction = clf.predict(test_data)\n",
    "print(\"Predictions: \\t\", prediction)\n",
    "\n",
    "# Compare with labels:\n",
    "print(\"Testing labels: \", test_lbls.flatten())\n",
    "acc_sc = accuracy_score(test_lbls, prediction)\n",
    "print(\"Accuracy score: {}%\".format(acc_sc*100))"
   ]
  },
  {
   "cell_type": "code",
   "execution_count": 7,
   "metadata": {},
   "outputs": [
    {
     "data": {
      "text/plain": [
       "LinearSVC(C=1.0, class_weight=None, dual=True, fit_intercept=True,\n",
       "     intercept_scaling=1, loss='squared_hinge', max_iter=1000,\n",
       "     multi_class='ovr', penalty='l2', random_state=None, tol=0.0001,\n",
       "     verbose=0)"
      ]
     },
     "metadata": {},
     "output_type": "display_data"
    },
    {
     "name": "stdout",
     "output_type": "stream",
     "text": [
      "Predictions: \t [2 2 2 2 2]\n",
      "Testing labels:  [2 2 4 4 2]\n",
      "Accuracy score: 60.0%\n"
     ]
    }
   ],
   "source": [
    "# Build classifier:\n",
    "clf = svm.LinearSVC()\n",
    "display(clf)\n",
    "clf.fit(train_data, train_lbls)\n",
    "\n",
    "# Predict data:\n",
    "prediction = clf.predict(test_data)\n",
    "print(\"Predictions: \\t\", prediction)\n",
    "\n",
    "# Compare with labels:\n",
    "print(\"Testing labels: \", test_lbls.flatten())\n",
    "acc_sc = accuracy_score(test_lbls, prediction)\n",
    "print(\"Accuracy score: {}%\".format(acc_sc*100))"
   ]
  },
  {
   "cell_type": "code",
   "execution_count": null,
   "metadata": {},
   "outputs": [],
   "source": []
  }
 ],
 "metadata": {
  "kernelspec": {
   "display_name": "Python [conda env:tensorflow]",
   "language": "python",
   "name": "conda-env-tensorflow-py"
  },
  "language_info": {
   "codemirror_mode": {
    "name": "ipython",
    "version": 3
   },
   "file_extension": ".py",
   "mimetype": "text/x-python",
   "name": "python",
   "nbconvert_exporter": "python",
   "pygments_lexer": "ipython3",
   "version": "3.5.3"
  }
 },
 "nbformat": 4,
 "nbformat_minor": 2
}
